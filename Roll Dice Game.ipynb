{
 "cells": [
  {
   "cell_type": "code",
   "execution_count": null,
   "metadata": {},
   "outputs": [
    {
     "name": "stdout",
     "output_type": "stream",
     "text": [
      "Hello, Welcome to the Rolls & Dice Game\n",
      "The number on the dice is:  3\n",
      "What to play again, If Yes press 1  or else 2:  1\n",
      "Seems that you want to play again :) \n",
      "Hello, Welcome to the Rolls & Dice Game\n",
      "The number on the dice is:  1\n"
     ]
    }
   ],
   "source": [
    "import random\n",
    "\n",
    "def roll_dice():\n",
    "    print(\"Hello, Welcome to the Rolls & Dice Game\")\n",
    "    \n",
    "    dice_output = random.randint(1,6)\n",
    "    print('The number on the dice is: ', dice_output)\n",
    "\n",
    "    regame()\n",
    "\n",
    "def regame():\n",
    "    \n",
    "    user_choice= int(input('What to play again, If Yes press 1  or else 2:  '))\n",
    "    \n",
    "    if user_choice == 1:\n",
    "        print('Seems that you want to play again :) ')\n",
    "        roll_dice()\n",
    "        \n",
    "    else:\n",
    "        print('Thank you for playing!!!')\n",
    "    \n",
    "    \n",
    "roll_dice()"
   ]
  },
  {
   "cell_type": "code",
   "execution_count": null,
   "metadata": {},
   "outputs": [],
   "source": [
    "roll_dice()"
   ]
  },
  {
   "cell_type": "code",
   "execution_count": 1,
   "metadata": {},
   "outputs": [],
   "source": [
    "import random"
   ]
  },
  {
   "cell_type": "code",
   "execution_count": 3,
   "metadata": {},
   "outputs": [
    {
     "data": {
      "text/plain": [
       "0.0821432484206569"
      ]
     },
     "execution_count": 3,
     "metadata": {},
     "output_type": "execute_result"
    }
   ],
   "source": [
    "random.random()"
   ]
  },
  {
   "cell_type": "code",
   "execution_count": 10,
   "metadata": {},
   "outputs": [
    {
     "data": {
      "text/plain": [
       "69"
      ]
     },
     "execution_count": 10,
     "metadata": {},
     "output_type": "execute_result"
    }
   ],
   "source": [
    "random.randint(4,88)"
   ]
  },
  {
   "cell_type": "code",
   "execution_count": null,
   "metadata": {},
   "outputs": [],
   "source": []
  }
 ],
 "metadata": {
  "kernelspec": {
   "display_name": "Python 3",
   "language": "python",
   "name": "python3"
  },
  "language_info": {
   "codemirror_mode": {
    "name": "ipython",
    "version": 3
   },
   "file_extension": ".py",
   "mimetype": "text/x-python",
   "name": "python",
   "nbconvert_exporter": "python",
   "pygments_lexer": "ipython3",
   "version": "3.7.3"
  }
 },
 "nbformat": 4,
 "nbformat_minor": 2
}
