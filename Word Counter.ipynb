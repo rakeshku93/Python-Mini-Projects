{
 "cells": [
  {
   "cell_type": "code",
   "execution_count": 5,
   "metadata": {},
   "outputs": [
    {
     "name": "stdout",
     "output_type": "stream",
     "text": [
      "Word Counter\n",
      "Please enter the sentence to count the number of words,\n",
      "    and Press Enter to end the sentence: Hello Python, rakesh here\n",
      "you string has following number of words:  4\n"
     ]
    }
   ],
   "source": [
    "def display():\n",
    "    print('Word Counter')    ## Hello Python, rakesh here\n",
    "    \n",
    "def user_input():\n",
    "    string = input('''Please enter the sentence to count the number of words,\n",
    "    and Press Enter to end the sentence: ''')\n",
    "    return string\n",
    "\n",
    "def word_counter(s):\n",
    "    my_list = s.split()\n",
    "    print('you string has following number of words: ',len(my_list))\n",
    "    \n",
    "display()\n",
    "s = user_input()\n",
    "word_counter(s)"
   ]
  },
  {
   "cell_type": "code",
   "execution_count": null,
   "metadata": {},
   "outputs": [],
   "source": []
  }
 ],
 "metadata": {
  "kernelspec": {
   "display_name": "Python 3",
   "language": "python",
   "name": "python3"
  },
  "language_info": {
   "codemirror_mode": {
    "name": "ipython",
    "version": 3
   },
   "file_extension": ".py",
   "mimetype": "text/x-python",
   "name": "python",
   "nbconvert_exporter": "python",
   "pygments_lexer": "ipython3",
   "version": "3.7.3"
  }
 },
 "nbformat": 4,
 "nbformat_minor": 2
}
