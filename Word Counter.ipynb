{
 "cells": [
  {
   "cell_type": "code",
   "execution_count": 5,
   "metadata": {},
   "outputs": [
    {
     "name": "stdout",
     "output_type": "stream",
     "text": [
      "Word Counter\n",
      "Please enter the sentence to count the number of words,\n",
      "    and Press Enter to end the sentence: Hello Python, rakesh here\n",
      "you string has following number of words:  4\n"
     ]
    }
   ],
   "source": [
    "def display():\n",
    "    print('Word Counter')    ## Hello Python, rakesh here\n",
    "    \n",
    "def user_input():\n",
    "    string = input('''Please enter the sentence to count the number of words,\n",
    "    and Press Enter to end the sentence: ''')\n",
    "    return string\n",
    "\n",
    "def word_counter(s):\n",
    "    my_list = s.split()\n",
    "    print('you string has following number of words: ',len(my_list))\n",
    "    \n",
    "display()\n",
    "s = user_input()\n",
    "word_counter(s)"
   ]
  },
  {
   "cell_type": "code",
   "execution_count": null,
   "metadata": {},
   "outputs": [],
   "source": []
  },
  {
   "cell_type": "code",
   "execution_count": 1,
   "metadata": {},
   "outputs": [],
   "source": [
    "import pandas as pd\n",
    "\n",
    "df = pd.read_csv(r\"C:\\Users\\rkumarkuwar\\Desktop\\nyc-taxi.csv\")"
   ]
  },
  {
   "cell_type": "code",
   "execution_count": 3,
   "metadata": {},
   "outputs": [
    {
     "data": {
      "text/plain": [
       "1044454"
      ]
     },
     "execution_count": 3,
     "metadata": {},
     "output_type": "execute_result"
    }
   ],
   "source": [
    "df.memory_usage(index=True).sum()"
   ]
  },
  {
   "cell_type": "code",
   "execution_count": 4,
   "metadata": {},
   "outputs": [
    {
     "name": "stdout",
     "output_type": "stream",
     "text": [
      "<class 'pandas.core.frame.DataFrame'>\n",
      "RangeIndex: 11734 entries, 0 to 11733\n",
      "Data columns (total 12 columns):\n",
      " #   Column                Non-Null Count  Dtype  \n",
      "---  ------                --------------  -----  \n",
      " 0   passengerCount        11147 non-null  float64\n",
      " 1   tripDistance          11734 non-null  float64\n",
      " 2   hour_of_day           11734 non-null  int64  \n",
      " 3   day_of_week           11734 non-null  int64  \n",
      " 4   month_num             11734 non-null  int64  \n",
      " 5   normalizeHolidayName  11734 non-null  object \n",
      " 6   isPaidTimeOff         11734 non-null  bool   \n",
      " 7   snowDepth             11734 non-null  float64\n",
      " 8   precipTime            11734 non-null  int64  \n",
      " 9   precipDepth           11734 non-null  int64  \n",
      " 10  temperature           11734 non-null  float64\n",
      " 11  totalAmount           11617 non-null  float64\n",
      "dtypes: bool(1), float64(5), int64(5), object(1)\n",
      "memory usage: 1020.0+ KB\n"
     ]
    }
   ],
   "source": [
    "df.info(memory_usage=True)"
   ]
  },
  {
   "cell_type": "code",
   "execution_count": 5,
   "metadata": {},
   "outputs": [
    {
     "data": {
      "text/plain": [
       "1669867"
      ]
     },
     "execution_count": 5,
     "metadata": {},
     "output_type": "execute_result"
    }
   ],
   "source": [
    "df.memory_usage(deep=True).sum()"
   ]
  },
  {
   "cell_type": "code",
   "execution_count": 2,
   "metadata": {},
   "outputs": [
    {
     "data": {
      "text/html": [
       "<div>\n",
       "<style scoped>\n",
       "    .dataframe tbody tr th:only-of-type {\n",
       "        vertical-align: middle;\n",
       "    }\n",
       "\n",
       "    .dataframe tbody tr th {\n",
       "        vertical-align: top;\n",
       "    }\n",
       "\n",
       "    .dataframe thead th {\n",
       "        text-align: right;\n",
       "    }\n",
       "</style>\n",
       "<table border=\"1\" class=\"dataframe\">\n",
       "  <thead>\n",
       "    <tr style=\"text-align: right;\">\n",
       "      <th></th>\n",
       "      <th>upc_store</th>\n",
       "      <th>date_wk_start</th>\n",
       "      <th>Units</th>\n",
       "      <th>Manufacturer_Name</th>\n",
       "      <th>Category_Name</th>\n",
       "      <th>Sub_Category_Name</th>\n",
       "      <th>holiday_cnt</th>\n",
       "      <th>date_wk_start_sin6_K1</th>\n",
       "      <th>date_wk_start_cos6_K1</th>\n",
       "      <th>date_wk_start_sin8_K1</th>\n",
       "      <th>...</th>\n",
       "      <th>half</th>\n",
       "      <th>quarter</th>\n",
       "      <th>month_lbl</th>\n",
       "      <th>mweek</th>\n",
       "      <th>week</th>\n",
       "      <th>week2</th>\n",
       "      <th>week3</th>\n",
       "      <th>week4</th>\n",
       "      <th>mday7</th>\n",
       "      <th>store_upc_wkcnt</th>\n",
       "    </tr>\n",
       "  </thead>\n",
       "  <tbody>\n",
       "    <tr>\n",
       "      <th>0</th>\n",
       "      <td>00050000693863_1301</td>\n",
       "      <td>2018-11-11 00:00:00+00:00</td>\n",
       "      <td>20</td>\n",
       "      <td>NESTLE USA INC</td>\n",
       "      <td>CREAMS/CREAMERS</td>\n",
       "      <td>RFG COFFEE CREAMER</td>\n",
       "      <td>1</td>\n",
       "      <td>-0.563320</td>\n",
       "      <td>0.826239</td>\n",
       "      <td>-0.900969</td>\n",
       "      <td>...</td>\n",
       "      <td>2</td>\n",
       "      <td>4</td>\n",
       "      <td>November</td>\n",
       "      <td>2</td>\n",
       "      <td>45</td>\n",
       "      <td>1</td>\n",
       "      <td>0</td>\n",
       "      <td>1</td>\n",
       "      <td>2</td>\n",
       "      <td>98</td>\n",
       "    </tr>\n",
       "    <tr>\n",
       "      <th>1</th>\n",
       "      <td>00050000693863_1301</td>\n",
       "      <td>2018-11-18 00:00:00+00:00</td>\n",
       "      <td>16</td>\n",
       "      <td>NESTLE USA INC</td>\n",
       "      <td>CREAMS/CREAMERS</td>\n",
       "      <td>RFG COFFEE CREAMER</td>\n",
       "      <td>1</td>\n",
       "      <td>0.433884</td>\n",
       "      <td>0.900969</td>\n",
       "      <td>-0.943883</td>\n",
       "      <td>...</td>\n",
       "      <td>2</td>\n",
       "      <td>4</td>\n",
       "      <td>November</td>\n",
       "      <td>3</td>\n",
       "      <td>46</td>\n",
       "      <td>0</td>\n",
       "      <td>1</td>\n",
       "      <td>2</td>\n",
       "      <td>3</td>\n",
       "      <td>99</td>\n",
       "    </tr>\n",
       "    <tr>\n",
       "      <th>2</th>\n",
       "      <td>00050000693863_1301</td>\n",
       "      <td>2018-11-25 00:00:00+00:00</td>\n",
       "      <td>11</td>\n",
       "      <td>NESTLE USA INC</td>\n",
       "      <td>CREAMS/CREAMERS</td>\n",
       "      <td>RFG COFFEE CREAMER</td>\n",
       "      <td>0</td>\n",
       "      <td>0.997204</td>\n",
       "      <td>0.074730</td>\n",
       "      <td>-0.433884</td>\n",
       "      <td>...</td>\n",
       "      <td>2</td>\n",
       "      <td>4</td>\n",
       "      <td>November</td>\n",
       "      <td>4</td>\n",
       "      <td>47</td>\n",
       "      <td>1</td>\n",
       "      <td>2</td>\n",
       "      <td>3</td>\n",
       "      <td>4</td>\n",
       "      <td>100</td>\n",
       "    </tr>\n",
       "    <tr>\n",
       "      <th>3</th>\n",
       "      <td>00050000693863_1301</td>\n",
       "      <td>2018-12-02 00:00:00+00:00</td>\n",
       "      <td>23</td>\n",
       "      <td>NESTLE USA INC</td>\n",
       "      <td>CREAMS/CREAMERS</td>\n",
       "      <td>RFG COFFEE CREAMER</td>\n",
       "      <td>0</td>\n",
       "      <td>0.563320</td>\n",
       "      <td>-0.826239</td>\n",
       "      <td>0.330279</td>\n",
       "      <td>...</td>\n",
       "      <td>2</td>\n",
       "      <td>4</td>\n",
       "      <td>December</td>\n",
       "      <td>1</td>\n",
       "      <td>48</td>\n",
       "      <td>0</td>\n",
       "      <td>0</td>\n",
       "      <td>0</td>\n",
       "      <td>1</td>\n",
       "      <td>101</td>\n",
       "    </tr>\n",
       "    <tr>\n",
       "      <th>4</th>\n",
       "      <td>00050000693863_1301</td>\n",
       "      <td>2018-12-09 00:00:00+00:00</td>\n",
       "      <td>12</td>\n",
       "      <td>NESTLE USA INC</td>\n",
       "      <td>CREAMS/CREAMERS</td>\n",
       "      <td>RFG COFFEE CREAMER</td>\n",
       "      <td>0</td>\n",
       "      <td>-0.433884</td>\n",
       "      <td>-0.900969</td>\n",
       "      <td>0.900969</td>\n",
       "      <td>...</td>\n",
       "      <td>2</td>\n",
       "      <td>4</td>\n",
       "      <td>December</td>\n",
       "      <td>2</td>\n",
       "      <td>49</td>\n",
       "      <td>1</td>\n",
       "      <td>1</td>\n",
       "      <td>1</td>\n",
       "      <td>2</td>\n",
       "      <td>102</td>\n",
       "    </tr>\n",
       "  </tbody>\n",
       "</table>\n",
       "<p>5 rows × 28 columns</p>\n",
       "</div>"
      ],
      "text/plain": [
       "             upc_store             date_wk_start Units Manufacturer_Name  \\\n",
       "0  00050000693863_1301 2018-11-11 00:00:00+00:00    20    NESTLE USA INC   \n",
       "1  00050000693863_1301 2018-11-18 00:00:00+00:00    16    NESTLE USA INC   \n",
       "2  00050000693863_1301 2018-11-25 00:00:00+00:00    11    NESTLE USA INC   \n",
       "3  00050000693863_1301 2018-12-02 00:00:00+00:00    23    NESTLE USA INC   \n",
       "4  00050000693863_1301 2018-12-09 00:00:00+00:00    12    NESTLE USA INC   \n",
       "\n",
       "     Category_Name   Sub_Category_Name  holiday_cnt  date_wk_start_sin6_K1  \\\n",
       "0  CREAMS/CREAMERS  RFG COFFEE CREAMER            1              -0.563320   \n",
       "1  CREAMS/CREAMERS  RFG COFFEE CREAMER            1               0.433884   \n",
       "2  CREAMS/CREAMERS  RFG COFFEE CREAMER            0               0.997204   \n",
       "3  CREAMS/CREAMERS  RFG COFFEE CREAMER            0               0.563320   \n",
       "4  CREAMS/CREAMERS  RFG COFFEE CREAMER            0              -0.433884   \n",
       "\n",
       "   date_wk_start_cos6_K1  date_wk_start_sin8_K1  ...  half  quarter  \\\n",
       "0               0.826239              -0.900969  ...     2        4   \n",
       "1               0.900969              -0.943883  ...     2        4   \n",
       "2               0.074730              -0.433884  ...     2        4   \n",
       "3              -0.826239               0.330279  ...     2        4   \n",
       "4              -0.900969               0.900969  ...     2        4   \n",
       "\n",
       "   month_lbl  mweek  week  week2  week3  week4  mday7  store_upc_wkcnt  \n",
       "0   November      2    45      1      0      1      2               98  \n",
       "1   November      3    46      0      1      2      3               99  \n",
       "2   November      4    47      1      2      3      4              100  \n",
       "3   December      1    48      0      0      0      1              101  \n",
       "4   December      2    49      1      1      1      2              102  \n",
       "\n",
       "[5 rows x 28 columns]"
      ]
     },
     "execution_count": 2,
     "metadata": {},
     "output_type": "execute_result"
    }
   ],
   "source": [
    "df = pd.read_parquet(\"./images/part-1.parquet\")\n",
    "df.head()"
   ]
  },
  {
   "cell_type": "code",
   "execution_count": 3,
   "metadata": {},
   "outputs": [
    {
     "data": {
      "text/plain": [
       "Index(['upc_store', 'date_wk_start', 'Units', 'Manufacturer_Name',\n",
       "       'Category_Name', 'Sub_Category_Name', 'holiday_cnt',\n",
       "       'date_wk_start_sin6_K1', 'date_wk_start_cos6_K1',\n",
       "       'date_wk_start_sin8_K1', 'date_wk_start_cos8_K1',\n",
       "       'date_wk_start_sin10_K1', 'date_wk_start_cos10_K1',\n",
       "       'date_wk_start_sin12_K1', 'date_wk_start_cos12_K1',\n",
       "       'date_wk_start_sin_year', 'date_wk_start_cos_year', 'year', 'half',\n",
       "       'quarter', 'month_lbl', 'mweek', 'week', 'week2', 'week3', 'week4',\n",
       "       'mday7', 'store_upc_wkcnt'],\n",
       "      dtype='object')"
      ]
     },
     "execution_count": 3,
     "metadata": {},
     "output_type": "execute_result"
    }
   ],
   "source": [
    "df.columns"
   ]
  },
  {
   "cell_type": "code",
   "execution_count": null,
   "metadata": {},
   "outputs": [],
   "source": []
  }
 ],
 "metadata": {
  "kernelspec": {
   "display_name": "Python 3.8.13 ('py38')",
   "language": "python",
   "name": "python3"
  },
  "language_info": {
   "codemirror_mode": {
    "name": "ipython",
    "version": 3
   },
   "file_extension": ".py",
   "mimetype": "text/x-python",
   "name": "python",
   "nbconvert_exporter": "python",
   "pygments_lexer": "ipython3",
   "version": "3.8.13"
  },
  "vscode": {
   "interpreter": {
    "hash": "2d630e0cc0c84cebedeee9ce2cc9e0c67fed820c0a3ba66cc141a6b3ba050296"
   }
  }
 },
 "nbformat": 4,
 "nbformat_minor": 2
}
