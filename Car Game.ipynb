{
 "cells": [
  {
   "cell_type": "code",
   "execution_count": 47,
   "metadata": {},
   "outputs": [
    {
     "name": "stdout",
     "output_type": "stream",
     "text": [
      ">>>qwert\n",
      "I don't understand that...\n",
      ">>>stop\n",
      "Car is already Stopped.\n",
      ">>>start\n",
      "Car Started...Ready to Go..\n",
      ">>>stop\n",
      "Car Stopped.\n",
      ">>>quit\n"
     ]
    }
   ],
   "source": [
    "command = \"\"\n",
    "started = False\n",
    "\n",
    "while True:\n",
    "    command = input(\">>>\").upper()\n",
    "    \n",
    "    if command == 'START':\n",
    "        if started:    # if started == True: can also be written as if started: ( it means by default is takes True Value)\n",
    "            print('Car is already Started..Want to stop the Car')\n",
    "            \n",
    "        else:\n",
    "            started = True\n",
    "            print('Car Started...Ready to Go..')\n",
    " \n",
    "    elif command == 'STOP':\n",
    "        if not started:    \n",
    "            print('Car is already Stopped.')\n",
    "            \n",
    "        else:\n",
    "            started = False\n",
    "            print('Car Stopped.')\n",
    "     \n",
    "    elif command == 'QUIT':\n",
    "        break\n",
    "        \n",
    "    elif  command == 'HELP':\n",
    "        print('''Start - to start the Car\n",
    "Stop - to stop the car\n",
    "Quit- to exit''')\n",
    "      \n",
    "    else:\n",
    "        print(\"I don't understand that...\")"
   ]
  },
  {
   "cell_type": "code",
   "execution_count": null,
   "metadata": {},
   "outputs": [],
   "source": []
  },
  {
   "cell_type": "code",
   "execution_count": null,
   "metadata": {},
   "outputs": [],
   "source": []
  }
 ],
 "metadata": {
  "kernelspec": {
   "display_name": "Python 3",
   "language": "python",
   "name": "python3"
  },
  "language_info": {
   "codemirror_mode": {
    "name": "ipython",
    "version": 3
   },
   "file_extension": ".py",
   "mimetype": "text/x-python",
   "name": "python",
   "nbconvert_exporter": "python",
   "pygments_lexer": "ipython3",
   "version": "3.7.0"
  }
 },
 "nbformat": 4,
 "nbformat_minor": 2
}
