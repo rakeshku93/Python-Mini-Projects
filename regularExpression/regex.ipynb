{
 "cells": [
  {
   "cell_type": "code",
   "execution_count": 7,
   "metadata": {},
   "outputs": [],
   "source": [
    "import re"
   ]
  },
  {
   "attachments": {},
   "cell_type": "markdown",
   "metadata": {},
   "source": [
    "## Matching Regex Objects"
   ]
  },
  {
   "cell_type": "code",
   "execution_count": 30,
   "metadata": {},
   "outputs": [
    {
     "name": "stdout",
     "output_type": "stream",
     "text": [
      "Phone number found: 432-768-9999\n"
     ]
    }
   ],
   "source": [
    "# creating a regrex object\n",
    "phoneNumRegex = re.compile(r'\\d{3}-\\d{3}-\\d{4}')\n",
    "\n",
    "# matching the regex\n",
    "mo = phoneNumRegex.search('My number is 432-768-9999.')  # return None\n",
    "\n",
    "if mo is not None:\n",
    "    print(f\"Phone number found: {mo.group()}\")"
   ]
  },
  {
   "cell_type": "markdown",
   "metadata": {},
   "source": [
    "## Grouping with Parentheses"
   ]
  },
  {
   "cell_type": "code",
   "execution_count": 22,
   "metadata": {},
   "outputs": [
    {
     "name": "stdout",
     "output_type": "stream",
     "text": [
      "Phone number found: 432-768-9999\n"
     ]
    }
   ],
   "source": [
    "phoneNumRegex = re.compile(r'(\\d{3})-(\\d{3}-\\d{4})')\n",
    "mo = phoneNumRegex.search('My number is 432-768-9999.')\n",
    "print(f\"Phone number found: {mo.group()}\")"
   ]
  },
  {
   "cell_type": "code",
   "execution_count": 24,
   "metadata": {},
   "outputs": [
    {
     "data": {
      "text/plain": [
       "('432', '768-9999')"
      ]
     },
     "execution_count": 24,
     "metadata": {},
     "output_type": "execute_result"
    }
   ],
   "source": [
    "mo.group(1), mo.group(2)"
   ]
  },
  {
   "cell_type": "code",
   "execution_count": 28,
   "metadata": {},
   "outputs": [
    {
     "name": "stdout",
     "output_type": "stream",
     "text": [
      "432\n",
      "768-9999\n"
     ]
    }
   ],
   "source": [
    "areaCode, phoneNumber = mo.groups()  # KeyNote: Here we're using .groups() instead of .group()\n",
    "print(areaCode)\n",
    "print(phoneNumber)"
   ]
  },
  {
   "attachments": {},
   "cell_type": "markdown",
   "metadata": {},
   "source": [
    "## Special Characters:\n",
    "- `The caret (^):` is used to `match the **start of a string.**`\n",
    "- `The dollar ($):` is used to `match the **end of a string.**`\n",
    "- `The period (.):` is used to `match any **single character.**`\n",
    "- `The question mark (?)` is used to `match **zero or one character.**`\n",
    "- `The plus sign (+)` is used to `match **one or more characters.**`\n",
    "- `The asterisk (*):` is used to `match **zero or more characters.**`\n",
    "- `The vertical bar (|)` is used to `match **one of two characters.**`\n",
    "- `The square brackets ([ and ])` are used to `match **a set of characters.**`\n",
    "- `The backslash:` is used to `escape characters so that they are treated as literal characters instead of special characters.`\n",
    "\n",
    "### Note: \n",
    "- the question mark can have two meanings in regular expressions: declaring a non-greedy match or flagging an optional group.\n",
    "- If need to detect these characters as part of your text pattern, you need to escape them with a backslash:\n",
    "-      \\. \\^ \\$ \\* \\+ \\? \\{ \\} \\[ \\] \\\\ \\| \\( \\)"
   ]
  },
  {
   "cell_type": "markdown",
   "metadata": {},
   "source": [
    "### Matching One or More with the Plus"
   ]
  },
  {
   "cell_type": "code",
   "execution_count": 49,
   "metadata": {},
   "outputs": [
    {
     "name": "stdout",
     "output_type": "stream",
     "text": [
      "Batwoman\n",
      "Batwowowoman\n",
      "True\n"
     ]
    }
   ],
   "source": [
    "batRegex = re.compile(r\"Bat(wo)+man\")\n",
    "mo1 = batRegex.search(\"This is the Adventures of Batwoman\")\n",
    "print(mo1.group())\n",
    "\n",
    "mo2 = batRegex.search(\"This is the Adventures of Batwowowoman\")\n",
    "print(mo2.group())\n",
    "\n",
    "mo3 = batRegex.search(\"This Adventures of Batman\")\n",
    "print(mo3 == None)"
   ]
  },
  {
   "cell_type": "code",
   "execution_count": 1,
   "metadata": {},
   "outputs": [],
   "source": [
    "# Strong Password Detection"
   ]
  },
  {
   "cell_type": "code",
   "execution_count": 60,
   "metadata": {},
   "outputs": [
    {
     "name": "stdout",
     "output_type": "stream",
     "text": [
      ">>passwrd: Xavier@09\n",
      ">>digitMatchObject: 09\n",
      ">>upperCaseObject: X\n",
      ">>lowerCaseObject: avier\n",
      "Password Status: Strong Password\n"
     ]
    }
   ],
   "source": [
    "def detect_password_stregth(passwrd):\n",
    "    \"\"\"This function detects whether a given password is strong or not.\"\"\"\n",
    "    \n",
    "    if len(passwrd) >= 8:\n",
    "        print(f\">>passwrd: {passwrd}\")\n",
    "        \n",
    "        digitRegex = re.compile(r\"\\d+\")\n",
    "        digitMatchObject = digitRegex.search(passwrd)\n",
    "        \n",
    "        upperCaseRegex = re.compile(r\"[A-Z]+\")\n",
    "        upperCaseObject = upperCaseRegex.search(passwrd)\n",
    "        \n",
    "        lowerCaseRegex = re.compile(r\"[a-z]+\")\n",
    "        lowerCaseObject = lowerCaseRegex.search(passwrd)\n",
    "        \n",
    "        if digitMatchObject is not None:\n",
    "            if upperCaseObject is not None:\n",
    "                if lowerCaseObject is not None:\n",
    "                    \n",
    "                    print(f\">>digitMatchObject: {digitMatchObject.group()}\")\n",
    "                    print(f\">>upperCaseObject: {upperCaseObject.group()}\")\n",
    "                    print(f\">>lowerCaseObject: {lowerCaseObject.group()}\")\n",
    "                    \n",
    "                    return \"Strong Password\"\n",
    "                \n",
    "                else:\n",
    "                    return \"Password is weak. It should contain both uppercase & lowercase characters\"\n",
    "            else:\n",
    "                return \"Password is weak. It should contain atleast 1 uppercase characters\"     \n",
    "        else:\n",
    "            return \"Password is weak. It should contain atleast 1 digit\"\n",
    "    else:\n",
    "        return \"Password is weak. It should contain atleast 8 characters\"\n",
    "    \n",
    "\n",
    "password = \"Xavier@09\"\n",
    "print(f\"Password Status: {detect_password_stregth(password)}\")"
   ]
  },
  {
   "cell_type": "code",
   "execution_count": null,
   "metadata": {},
   "outputs": [],
   "source": []
  }
 ],
 "metadata": {
  "kernelspec": {
   "display_name": "base",
   "language": "python",
   "name": "python3"
  },
  "language_info": {
   "codemirror_mode": {
    "name": "ipython",
    "version": 3
   },
   "file_extension": ".py",
   "mimetype": "text/x-python",
   "name": "python",
   "nbconvert_exporter": "python",
   "pygments_lexer": "ipython3",
   "version": "3.9.12"
  },
  "orig_nbformat": 4,
  "vscode": {
   "interpreter": {
    "hash": "56b3ff06c847d0c4f7be3763dc97c6491a535e13ce8210240ca7cce9ff5cd5ae"
   }
  }
 },
 "nbformat": 4,
 "nbformat_minor": 2
}
