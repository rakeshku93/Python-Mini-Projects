{
 "cells": [
  {
   "cell_type": "code",
   "execution_count": 1,
   "metadata": {},
   "outputs": [
    {
     "ename": "SyntaxError",
     "evalue": "name 'n1' is parameter and global (<ipython-input-1-48f2ebad88ee>, line 18)",
     "output_type": "error",
     "traceback": [
      "\u001b[1;36m  File \u001b[1;32m\"<ipython-input-1-48f2ebad88ee>\"\u001b[1;36m, line \u001b[1;32m18\u001b[0m\n\u001b[1;33m    \u001b[0m\n\u001b[1;37m    ^\u001b[0m\n\u001b[1;31mSyntaxError\u001b[0m\u001b[1;31m:\u001b[0m name 'n1' is parameter and global\n"
     ]
    }
   ],
   "source": [
    "def print_instructions():\n",
    "    print('''Python Calculator\n",
    "        1. Add\n",
    "        2. Subtract\n",
    "        3. Multiply\n",
    "        4. Divison''')\n",
    "\n",
    "def ask_input():\n",
    "    choice = int(input('What are we calculating today? (1,2 ,3,4): '))\n",
    "    n1 = int(input('enter first number: '))\n",
    "    n2 = int(input('enter first number: '))\n",
    "    \n",
    "\n",
    "def addition(n1,n2):\n",
    "    global choice,n1,n2\n",
    "    result = n1 +n2\n",
    "    print(n1, '+', n2 , '=', result)\n",
    "\n",
    "def subtraction(n1,n2):\n",
    "    global choice,n1,n2\n",
    "    result = n1 - n2\n",
    "    print(n1, '-', n2 , '=', result)\n",
    "\n",
    "def multiplication(n1,n2):\n",
    "    global choice,n1,n2\n",
    "    result= n1*n2\n",
    "    print(n1, '*', n2 , '=', result)\n",
    "    \n",
    "def division (n1,n2):\n",
    "    global choice,n1,n2\n",
    "    result =n1 /n2\n",
    "    print(n1, '/', n2 , '=', result)\n",
    "    \n",
    "    \n",
    "def calculate(choice,n1,n2):\n",
    "    global choice,n1,n2\n",
    "    if choice ==1:\n",
    "        addition(n1,n2)\n",
    "    elif choice==2:\n",
    "        subtraction (n1,n2)\n",
    "    elif choice==3:\n",
    "        multiplication (n1,n2)\n",
    "    elif choice ==4:\n",
    "        division (n1,n2)\n",
    "    else:\n",
    "        print('invalid input')\n",
    "    \n",
    "        \n",
    "\n",
    "    \n",
    "print_instructions()\n",
    "ask_input()\n",
    "calculate(choice,n1,n2)"
   ]
  },
  {
   "cell_type": "code",
   "execution_count": null,
   "metadata": {},
   "outputs": [],
   "source": []
  }
 ],
 "metadata": {
  "kernelspec": {
   "display_name": "Python 3",
   "language": "python",
   "name": "python3"
  },
  "language_info": {
   "codemirror_mode": {
    "name": "ipython",
    "version": 3
   },
   "file_extension": ".py",
   "mimetype": "text/x-python",
   "name": "python",
   "nbconvert_exporter": "python",
   "pygments_lexer": "ipython3",
   "version": "3.7.3"
  }
 },
 "nbformat": 4,
 "nbformat_minor": 2
}
