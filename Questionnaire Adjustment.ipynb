{
 "cells": [
  {
   "cell_type": "markdown",
   "metadata": {},
   "source": [
    "# Putting the Pieces Together: Building a Program"
   ]
  },
  {
   "cell_type": "code",
   "execution_count": 30,
   "metadata": {},
   "outputs": [
    {
     "name": "stdout",
     "output_type": "stream",
     "text": [
      "say something:it's a good weather today\n",
      "say something:how's the weather there\n",
      "say something:there is some cloud here\n",
      "say something:/end\n",
      " It's a good weather today. How's the weather there? There is some cloud here.\n"
     ]
    }
   ],
   "source": [
    "database = ''\n",
    "questionnaire = ['why','what','who','whom','how','where']\n",
    "\n",
    "while True:    \n",
    "    user_input = input('say something:')\n",
    "    \n",
    "    if user_input == '/end':\n",
    "        break\n",
    "        \n",
    "    elif any(question in user_input for question in questionnaire):\n",
    "        user_input = user_input + \"?\"\n",
    "        \n",
    "    else:\n",
    "         user_input = user_input + '.'\n",
    "            \n",
    "    database = database +\" \"+ user_input.capitalize()\n",
    "\n",
    "print(database)"
   ]
  },
  {
   "cell_type": "code",
   "execution_count": null,
   "metadata": {},
   "outputs": [],
   "source": [
    "# Question to be asked\n",
    "# it's a good weather today\n",
    "# how's the weather there\n",
    "# there is some cloud here\n"
   ]
  },
  {
   "cell_type": "code",
   "execution_count": null,
   "metadata": {},
   "outputs": [],
   "source": []
  }
 ],
 "metadata": {
  "kernelspec": {
   "display_name": "Python 3",
   "language": "python",
   "name": "python3"
  },
  "language_info": {
   "codemirror_mode": {
    "name": "ipython",
    "version": 3
   },
   "file_extension": ".py",
   "mimetype": "text/x-python",
   "name": "python",
   "nbconvert_exporter": "python",
   "pygments_lexer": "ipython3",
   "version": "3.6.10"
  }
 },
 "nbformat": 4,
 "nbformat_minor": 2
}
