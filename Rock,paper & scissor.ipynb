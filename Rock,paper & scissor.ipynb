{
 "cells": [
  {
   "cell_type": "code",
   "execution_count": 23,
   "metadata": {},
   "outputs": [
    {
     "name": "stdout",
     "output_type": "stream",
     "text": [
      "Choose your input:\n",
      "            1. Rock \n",
      "            2. Paper\n",
      "            3. Scissor\n",
      "            \n",
      "What are you planning to choose, Rock, Paper or Scissor: rock\n",
      "You won\n",
      "You lost\n",
      "You lost\n"
     ]
    }
   ],
   "source": [
    "def choice_instruction():\n",
    "    print('''Choose your input:\n",
    "            1. Rock \n",
    "            2. Paper\n",
    "            3. Scissor\n",
    "            ''')  \n",
    "    \n",
    "def user_input():\n",
    "    choice = str(input('What are you planning to choose, Rock, Paper or Scissor: ')).upper()\n",
    "    return choice\n",
    "\n",
    "def regame():\n",
    "    n= int(input('What to play again, Press 1 for Yes, 2 for No'))\n",
    "    if n ==1:\n",
    "        game() \n",
    "    else:\n",
    "        print('Thanks for playing the game')\n",
    "\n",
    "def computer():\n",
    "    import random\n",
    "    list = ['Rock', 'Paper',' Scissor']\n",
    "    cout = random.choice(list)\n",
    "    return cout\n",
    "       \n",
    "def game(choice,cout):\n",
    "    \n",
    "    if choice == 'ROCK' and cout =='PAPER':\n",
    "        print('You lost')\n",
    "        \n",
    "    else:\n",
    "        print('You won')\n",
    "            \n",
    "    if choice == 'SCISSOR' and cout == 'PAPER':\n",
    "        print('You won')\n",
    "        \n",
    "    else:\n",
    "        print('You lost')\n",
    "            \n",
    "    if choice =='ROCK' and cout == 'SCISSOR':\n",
    "        print('You won')\n",
    "        \n",
    "    else:\n",
    "        print('You lost')\n",
    "     \n",
    "    if choice == cout:\n",
    "        print('Match is tied')\n",
    "        regame()\n",
    "        \n",
    "        \n",
    "        \n",
    "choice_instruction()\n",
    "choice = user_input()\n",
    "cout = computer()\n",
    "game(choice,cout)\n",
    "\n",
    "    \n",
    "    \n",
    "    \n",
    "    \n"
   ]
  },
  {
   "cell_type": "code",
   "execution_count": 26,
   "metadata": {},
   "outputs": [
    {
     "ename": "NameError",
     "evalue": "name 'c' is not defined",
     "output_type": "error",
     "traceback": [
      "\u001b[1;31m---------------------------------------------------------------------------\u001b[0m",
      "\u001b[1;31mNameError\u001b[0m                                 Traceback (most recent call last)",
      "\u001b[1;32m<ipython-input-26-a337354729cc>\u001b[0m in \u001b[0;36m<module>\u001b[1;34m()\u001b[0m\n\u001b[0;32m     10\u001b[0m \u001b[1;33m\u001b[0m\u001b[0m\n\u001b[0;32m     11\u001b[0m \u001b[0mcout\u001b[0m \u001b[1;33m=\u001b[0m \u001b[0mcomputer\u001b[0m\u001b[1;33m(\u001b[0m\u001b[1;33m)\u001b[0m\u001b[1;33m\u001b[0m\u001b[0m\n\u001b[1;32m---> 12\u001b[1;33m \u001b[0md\u001b[0m\u001b[1;33m(\u001b[0m\u001b[0mc\u001b[0m\u001b[1;33m)\u001b[0m\u001b[1;33m\u001b[0m\u001b[0m\n\u001b[0m\u001b[0;32m     13\u001b[0m \u001b[1;33m\u001b[0m\u001b[0m\n",
      "\u001b[1;31mNameError\u001b[0m: name 'c' is not defined"
     ]
    }
   ],
   "source": [
    "def computer():\n",
    "    import random\n",
    "    list = ['Rock', 'Paper',' Scissor']\n",
    "    cout = random.choice(list)\n",
    "    return cout\n",
    "\n",
    "def d(c):\n",
    "    c = cout\n",
    "    print(c)\n",
    "    \n",
    "cout = computer()\n",
    "d(c)\n",
    "    "
   ]
  },
  {
   "cell_type": "code",
   "execution_count": 53,
   "metadata": {},
   "outputs": [
    {
     "name": "stdout",
     "output_type": "stream",
     "text": [
      "Paper\n",
      "type  <class 'str'>\n",
      "yes\n"
     ]
    }
   ],
   "source": [
    "\n",
    "import random\n",
    "list = ['Rock', 'Paper',' Scissor']\n",
    "n = str(random.choice(list))\n",
    "print(n)\n",
    "print('type ', type(n))\n",
    "\n",
    "if n == 'Paper':\n",
    "    print('yes')\n",
    "    \n",
    "else:\n",
    "    print('no')\n",
    "    \n"
   ]
  },
  {
   "cell_type": "code",
   "execution_count": 47,
   "metadata": {},
   "outputs": [
    {
     "ename": "NameError",
     "evalue": "name 'n' is not defined",
     "output_type": "error",
     "traceback": [
      "\u001b[1;31m---------------------------------------------------------------------------\u001b[0m",
      "\u001b[1;31mNameError\u001b[0m                                 Traceback (most recent call last)",
      "\u001b[1;32m<ipython-input-47-74adfa83daed>\u001b[0m in \u001b[0;36m<module>\u001b[1;34m()\u001b[0m\n\u001b[1;32m----> 1\u001b[1;33m \u001b[0mtype\u001b[0m\u001b[1;33m(\u001b[0m\u001b[0mn\u001b[0m\u001b[1;33m)\u001b[0m\u001b[1;33m\u001b[0m\u001b[0m\n\u001b[0m",
      "\u001b[1;31mNameError\u001b[0m: name 'n' is not defined"
     ]
    }
   ],
   "source": []
  },
  {
   "cell_type": "code",
   "execution_count": null,
   "metadata": {},
   "outputs": [],
   "source": []
  }
 ],
 "metadata": {
  "kernelspec": {
   "display_name": "Python 3",
   "language": "python",
   "name": "python3"
  },
  "language_info": {
   "codemirror_mode": {
    "name": "ipython",
    "version": 3
   },
   "file_extension": ".py",
   "mimetype": "text/x-python",
   "name": "python",
   "nbconvert_exporter": "python",
   "pygments_lexer": "ipython3",
   "version": "3.7.0"
  }
 },
 "nbformat": 4,
 "nbformat_minor": 2
}
